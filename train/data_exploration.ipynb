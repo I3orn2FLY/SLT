{
 "cells": [
  {
   "cell_type": "code",
   "execution_count": 28,
   "metadata": {},
   "outputs": [],
   "source": [
    "import spacy\n",
    "import pandas as pd\n",
    "import pickle\n",
    "import glob\n",
    "import numpy as np\n",
    "import re\n",
    "import os\n",
    "from numpy.random import shuffle, seed\n",
    "from matplotlib import pyplot as plt\n",
    "%matplotlib inline"
   ]
  },
  {
   "cell_type": "code",
   "execution_count": 13,
   "metadata": {},
   "outputs": [],
   "source": [
    "class Vocab:\n",
    "    def __init__(self, sentences):\n",
    "        self.wtoi = {\"<sos>\": 0, \"<eos>\": 1, \"<unk>\": 2, \"<pad>\": 3}\n",
    "        self.itow = None\n",
    "        self.word_count = {}\n",
    "        self.sentences = sentences\n",
    "        self.sent_lengths = None\n",
    "\n",
    "    def build(self, min_freq=2):\n",
    "        for sentence in self.sentences:\n",
    "            for tok in sentence:\n",
    "                if not self.word_count.get(tok):\n",
    "                    self.word_count[tok] = 1\n",
    "                else:\n",
    "                    self.word_count[tok] += 1\n",
    "\n",
    "        for word in list(self.word_count):\n",
    "            if self.word_count[word] < min_freq:\n",
    "                del self.word_count[word]\n",
    "\n",
    "        idx = 4\n",
    "        for word in self.word_count:\n",
    "            self.wtoi[word] = idx\n",
    "            idx += 1\n",
    "\n",
    "        self.itow = {i: w for w, i in self.wtoi.items()}\n",
    "\n",
    "        self.sent_lengths = pd.Series([len(sentence) for sentence in self.sentences])\n",
    "\n",
    "    def sentence_to_num(self, sentence, max_length):\n",
    "        if len(sentence) > max_length - 2:\n",
    "            return None\n",
    "        idxs = [self.wtoi[\"<sos>\"]]\n",
    "        for tok in sentence:\n",
    "            idx = self.wtoi.get(tok)\n",
    "            if idx is None: idx = self.wtoi[\"<unk>\"]\n",
    "            idxs.append(idx)\n",
    "        idxs.append(self.wtoi[\"<eos>\"])\n",
    "        for i in range(len(sentence) + 2, max_length):\n",
    "            idxs.append(self.wtoi[\"<pad>\"])\n",
    "\n",
    "        return idxs\n",
    "\n",
    "    def num_to_sentence(self, nums):\n",
    "        sentence = []\n",
    "\n",
    "        for num in nums:\n",
    "            if num == self.wtoi[\"<pad>\"] or num == self.wtoi[\"<sos>\"]: continue\n",
    "            if num == self.wtoi[\"<eos>\"]: break\n",
    "\n",
    "            sentence.append(self.itow[num])\n",
    "\n",
    "        return sentence\n",
    "\n",
    "    def num_to_sentence_batch(self, nums_batch):\n",
    "        return [self.num_to_sentence(nums) for nums in nums_batch]\n",
    "\n",
    "    def plot_sent_lengths(self):\n",
    "        print(self.sent_lengths.value_counts())\n",
    "        pass\n",
    "\n",
    "    def save_vocab(self, filename=\"../vars/vocab.pkl\"):\n",
    "        with open(filename, \"wb\") as f:\n",
    "            pickle.dump(self, f)\n",
    "\n",
    "\n",
    "def get_video_lengths(vocab, datapath=\"/home/kenny/Workspace/Data/SLT\", split=\"train\", side = 227, out_seq_length = 30):\n",
    "    anno_filename = datapath + \"/manual/PHOENIX-2014-T.\" + split + \".corpus.csv\"\n",
    "\n",
    "    df = pd.read_csv(anno_filename, sep=\"|\")\n",
    "    spacy_de = spacy.load(\"de\")\n",
    "\n",
    "    image_path_prefix = datapath + \"/open_pose/fullFrame-\" + str(side) + \"x\" + str(side) + \"px/\" + split + \"/\"\n",
    "\n",
    "    video_lengths = []\n",
    "\n",
    "    for idx in range(df.shape[0]):\n",
    "        row = df.iloc[idx]\n",
    "\n",
    "        tokens = [tok.lower_ for tok in spacy_de.tokenizer(row.translation)]\n",
    "        nums = vocab.sentence_to_num(tokens, out_seq_length)\n",
    "        if nums is None: continue\n",
    "\n",
    "        path = image_path_prefix + row.video\n",
    "        path = path.replace(\"1/*.png\", \"*.pkl\")\n",
    "        video_lengths.append(len(list(glob.glob(path))))\n",
    "\n",
    "    return pd.Series(video_lengths)"
   ]
  },
  {
   "cell_type": "code",
   "execution_count": 36,
   "metadata": {},
   "outputs": [],
   "source": [
    "with open(\"../vars/vocab.pkl\", \"rb\") as f:\n",
    "    vocab = pickle.load(f)\n",
    "\n",
    "video_lengths = get_video_lengths(vocab)"
   ]
  },
  {
   "cell_type": "code",
   "execution_count": 32,
   "metadata": {},
   "outputs": [],
   "source": [
    "lengths = list(video_lengths.value_counts().index)\n",
    "nums = list(video_lengths.value_counts())"
   ]
  },
  {
   "cell_type": "code",
   "execution_count": 33,
   "metadata": {},
   "outputs": [],
   "source": [
    "a = sorted(list(zip(lengths,nums)), key=lambda x: x[0])\n",
    "lengths = [x[0] for x in a]\n",
    "nums = [x[1] for x in a]"
   ]
  },
  {
   "cell_type": "code",
   "execution_count": 47,
   "metadata": {},
   "outputs": [
    {
     "data": {
      "text/plain": [
       "(array([ 502., 1070., 1834., 1820.,  947.,  492.,  231.,   42.,   13.,\n",
       "           4.]),\n",
       " array([ 16. ,  47.3,  78.6, 109.9, 141.2, 172.5, 203.8, 235.1, 266.4,\n",
       "        297.7, 329. ]),\n",
       " <a list of 10 Patch objects>)"
      ]
     },
     "execution_count": 47,
     "metadata": {},
     "output_type": "execute_result"
    },
    {
     "data": {
      "image/png": "[encoded data removed]",
      "text/plain": [
       "<Figure size 432x288 with 1 Axes>"
      ]
     },
     "metadata": {
      "needs_background": "light"
     },
     "output_type": "display_data"
    }
   ],
   "source": [
    "counts, bins = np.histogram(video_lengths)\n",
    "plt.hist(bins[:-1], bins, weights=counts)\n"
   ]
  },
  {
   "cell_type": "code",
   "execution_count": 50,
   "metadata": {},
   "outputs": [
    {
     "data": {
      "text/plain": [
       "39.108554996405466"
      ]
     },
     "execution_count": 50,
     "metadata": {},
     "output_type": "execute_result"
    }
   ],
   "source": [
    "np.sum(video_lengths<100) * 100 / len(video_lengths)"
   ]
  },
  {
   "cell_type": "code",
   "execution_count": 48,
   "metadata": {},
   "outputs": [
    {
     "data": {
      "text/plain": [
       "array([ 16. ,  47.3,  78.6, 109.9, 141.2, 172.5, 203.8, 235.1, 266.4,\n",
       "       297.7, 329. ])"
      ]
     },
     "execution_count": 48,
     "metadata": {},
     "output_type": "execute_result"
    }
   ],
   "source": [
    "bins"
   ]
  },
  {
   "cell_type": "code",
   "execution_count": null,
   "metadata": {},
   "outputs": [],
   "source": []
  }
 ],
 "metadata": {
  "kernelspec": {
   "display_name": "Python 3",
   "language": "python",
   "name": "python3"
  },
  "language_info": {
   "codemirror_mode": {
    "name": "ipython",
    "version": 3
   },
   "file_extension": ".py",
   "mimetype": "text/x-python",
   "name": "python",
   "nbconvert_exporter": "python",
   "pygments_lexer": "ipython3",
   "version": "3.7.3"
  }
 },
 "nbformat": 4,
 "nbformat_minor": 1
}
