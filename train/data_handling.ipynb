{
 "cells": [
  {
   "cell_type": "code",
   "execution_count": 1,
   "metadata": {},
   "outputs": [],
   "source": [
    "import spacy\n",
    "import pandas as pd\n",
    "from torchtext.data import Field, RawField, BucketIterator\n",
    "from torchtext.data import TabularDataset\n",
    "import numpy as np"
   ]
  },
  {
   "cell_type": "code",
   "execution_count": 2,
   "metadata": {},
   "outputs": [],
   "source": [
    "spacy_de = spacy.load('de')\n",
    "\n",
    "\n",
    "\n",
    "\n",
    "def tokenize_de(text):\n",
    "    \"\"\"\n",
    "    Tokenizes German text from a string into a list of strings\n",
    "    \"\"\"\n",
    "    return [tok.text for tok in spacy_de.tokenizer(text)]"
   ]
  },
  {
   "cell_type": "code",
   "execution_count": 3,
   "metadata": {},
   "outputs": [],
   "source": [
    "df = pd.read_csv('../data/manual/PHOENIX-2014-T.test.corpus.csv', sep=\"|\")"
   ]
  },
  {
   "cell_type": "code",
   "execution_count": 4,
   "metadata": {},
   "outputs": [
    {
     "data": {
      "text/plain": [
       "0      regen und schnee lassen an den alpen in der na...\n",
       "1      am donnerstag regen in der nordhälfte in der s...\n",
       "2      vom nordmeer zieht ein kräftiges tief heran un...\n",
       "3      sonnig geht es auch ins wochenende samstag ein...\n",
       "4      deutschland liegt morgen unter hochdruckeinflu...\n",
       "5      am sonntag im nordwesten eine mischung aus son...\n",
       "6      örtlich schauer oder gewitter die heftig sein ...\n",
       "7      in den nächsten tagen geht es auf jeden fall w...\n",
       "8      und zum wochenende wird es dann sogar wieder e...\n",
       "9      auch morgen erwartet uns eine ruhige herbstmis...\n",
       "10     später breiten sich aber nebel oder hochnebelf...\n",
       "11                      die halten sich morgen recht zäh\n",
       "12     in deutschland gibt es nur schwache luftdrucku...\n",
       "13     vom mittelmeer fließt feuchte luft heran in de...\n",
       "14     ganz ähnliche temperaturen wie heute zwischen ...\n",
       "15     in der nordhälfte gibt es zu beginn der nacht ...\n",
       "16     und bis zum abend kann die schneefallgrenze au...\n",
       "17     und nun die wettervorhersage für morgen freita...\n",
       "18     morgen früh bildet sich über der nordsee ein n...\n",
       "19     heute nacht ist es im süden teils klar teilwei...\n",
       "20     im verlauf kommt im norden und nordwesten teil...\n",
       "21          morgen scheint dann wieder überall die sonne\n",
       "22     am samstag regnet es im südosten und an der os...\n",
       "23     am donnerstag ist es in der südosthälfte weite...\n",
       "24     im westen und nordwesten beruhigt sich das wet...\n",
       "25     morgen gibt es im osten und südosten bei einer...\n",
       "26     temperaturen nur so um die null grad am kältes...\n",
       "27     die luft die in der kommenden woche zu uns str...\n",
       "28     am dienstag ist es teils freundlich teils stär...\n",
       "29     am sonntag im norden und in der mitte schauer ...\n",
       "                             ...                        \n",
       "612    im süden bleibt es morgen unter hochdruckeinfl...\n",
       "613    heute nacht breitet sich von westen regen aus ...\n",
       "614    dort morgen sommerlich heiße dreißig grad im e...\n",
       "615    und nun die wettervorhersage für morgen dienst...\n",
       "616    im norden mäßiger wind an den küsten weht er t...\n",
       "617                              im süden schwacher wind\n",
       "618    heute nacht minus zwei grad an der nordsee und...\n",
       "619    also die temperaturen im westen wieder zwische...\n",
       "620    der nordwestwind bläst schwach bis mäßig in de...\n",
       "621    im weiteren verlauf breitet sich der regen ric...\n",
       "622               im westen und nordwesten frischer wind\n",
       "623    und das wetter bringt dort auch noch sonnensch...\n",
       "624    nachmittags bilden sich hier in bayern kräftig...\n",
       "625    und nun die wettervorhersage für morgen montag...\n",
       "626    die schneefallgrenze sinkt auf sechshundert bi...\n",
       "627    und daran ändert sich auch am mittwoch nichts ...\n",
       "628    also wir haben morgen höchsttemperaturen in mi...\n",
       "629    östlich also über osteuropa noch hochsommerlic...\n",
       "630    und nun die wettervorhersage für morgen montag...\n",
       "631    dort wird es am dienstag windig dazu gibt es e...\n",
       "632    im süden und südwesten gebietsweise regen sons...\n",
       "633    im laufe des wochenendes wird es dann immer tr...\n",
       "634    und nun die wettervorhersage für morgen samsta...\n",
       "635    relativ kühle luft strömt zu uns nach deutschland\n",
       "636    tiefausläufer erreichen uns zunächst nur in ab...\n",
       "637               sonst ein wechsel aus sonne und wolken\n",
       "638    der wind weht schwach bis mäßig an der nordsee...\n",
       "639    heute nacht liegen die werte zwischen vierzehn...\n",
       "640    am sonntag vor allem in der südosthälfte gewit...\n",
       "641    heute nacht neunzehn bis fünfzehn grad im südo...\n",
       "Name: translation, Length: 642, dtype: object"
      ]
     },
     "execution_count": 4,
     "metadata": {},
     "output_type": "execute_result"
    }
   ],
   "source": [
    "class Vocab:\n",
    "    def __init__(self):\n",
    "        self.itow = ['<sos>','<eos>','<unk>','<pad>']\n",
    "\n",
    "    \n",
    "    def add_sentence(self,sentence):\n",
    "        tokens = tokenize_de(sentence)\n",
    "        "
   ]
  },
  {
   "cell_type": "code",
   "execution_count": null,
   "metadata": {},
   "outputs": [],
   "source": []
  }
 ],
 "metadata": {
  "kernelspec": {
   "display_name": "Python 3",
   "language": "python",
   "name": "python3"
  },
  "language_info": {
   "codemirror_mode": {
    "name": "ipython",
    "version": 3
   },
   "file_extension": ".py",
   "mimetype": "text/x-python",
   "name": "python",
   "nbconvert_exporter": "python",
   "pygments_lexer": "ipython3",
   "version": "3.7.3"
  }
 },
 "nbformat": 4,
 "nbformat_minor": 2
}
